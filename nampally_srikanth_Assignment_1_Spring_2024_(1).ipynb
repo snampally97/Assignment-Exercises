{
  "cells": [
    {
      "cell_type": "markdown",
      "metadata": {
        "id": "view-in-github",
        "colab_type": "text"
      },
      "source": [
        "<a href=\"https://colab.research.google.com/github/snampally97/assignment-reviews/blob/main/nampally_srikanth_Assignment_1_Spring_2024_(1).ipynb\" target=\"_parent\"><img src=\"https://colab.research.google.com/assets/colab-badge.svg\" alt=\"Open In Colab\"/></a>"
      ]
    },
    {
      "cell_type": "markdown",
      "metadata": {
        "id": "Ryk8D1Q4Wsrp"
      },
      "source": [
        "# **INFO5731 Assignment One**"
      ]
    },
    {
      "cell_type": "markdown",
      "source": [
        "This assignment includes range of programming tasks and data analysis exercises, aiming to enhance your Python skills and proficiency in string manipulation, numerical computations, and data science. Follow the instructions carefully and design well-structured Python programs to address each question.\n",
        "\n",
        "Late Submission will have a penalty of 10% reduction for each day after the deadline."
      ],
      "metadata": {
        "id": "qcP6re2g5A5r"
      }
    },
    {
      "cell_type": "code",
      "source": [],
      "metadata": {
        "id": "mFhrYS06wKNl"
      },
      "execution_count": null,
      "outputs": []
    },
    {
      "cell_type": "markdown",
      "metadata": {
        "id": "JkzR8cFAyGik"
      },
      "source": [
        "# Question 1 (10 points).\n",
        "\n",
        "The formula that describes the volume V of a hemisphere with radius r is the following:\n",
        "\n",
        "$ V=\\frac{2}{3}\\ast\\ \\pi\\ast\\ r^3 $\n",
        "\n",
        "Write a program to calculate the value of V when r is in the range of even numbers from 1-20. Output the result in the following format:\n",
        "\n",
        "\tr\tV\n",
        "\t2\t…\n",
        "\t4\t…\n",
        "\t6\t…\n",
        "\t.\n",
        "\t.\n",
        "\t.\n",
        "\t20\t…\n"
      ]
    },
    {
      "cell_type": "code",
      "execution_count": null,
      "metadata": {
        "id": "jDyTKYs-yGit",
        "colab": {
          "base_uri": "https://localhost:8080/"
        },
        "outputId": "518c190f-fad7-4717-fde1-96750de58b86"
      },
      "outputs": [
        {
          "output_type": "stream",
          "name": "stdout",
          "text": [
            "For a hemisphere with radius 2, the volume is: 16.76\n",
            "For a hemisphere with radius 4, the volume is: 134.04\n",
            "For a hemisphere with radius 6, the volume is: 452.39\n",
            "For a hemisphere with radius 8, the volume is: 1072.33\n",
            "For a hemisphere with radius 10, the volume is: 2094.40\n",
            "For a hemisphere with radius 12, the volume is: 3619.11\n",
            "For a hemisphere with radius 14, the volume is: 5747.02\n",
            "For a hemisphere with radius 16, the volume is: 8578.64\n",
            "For a hemisphere with radius 18, the volume is: 12214.51\n",
            "For a hemisphere with radius 20, the volume is: 16755.16\n",
            "For a hemisphere with radius 22, the volume is: 22301.12\n",
            "For a hemisphere with radius 24, the volume is: 28952.92\n",
            "For a hemisphere with radius 26, the volume is: 36811.09\n",
            "For a hemisphere with radius 28, the volume is: 45976.16\n",
            "For a hemisphere with radius 30, the volume is: 56548.67\n",
            "For a hemisphere with radius 32, the volume is: 68629.14\n",
            "For a hemisphere with radius 34, the volume is: 82318.11\n",
            "For a hemisphere with radius 36, the volume is: 97716.10\n",
            "For a hemisphere with radius 38, the volume is: 114923.65\n",
            "For a hemisphere with radius 40, the volume is: 134041.29\n"
          ]
        }
      ],
      "source": [
        "import math\n",
        "\n",
        "def print_hemisphere_volumes():\n",
        "    def calculate_hemisphere_volume(radius):\n",
        "        return (2/3) * math.pi * radius**3\n",
        "\n",
        "    for r in range(2, 41, 2):\n",
        "        volume = calculate_hemisphere_volume(r)\n",
        "        print(f\"For a hemisphere with radius {r}, the volume is: {volume:.2f}\")\n",
        "\n",
        "print_hemisphere_volumes()\n",
        "\n"
      ]
    },
    {
      "cell_type": "markdown",
      "metadata": {
        "id": "90_NR8c5XGWc"
      },
      "source": [
        "# Question 2 (20 points)\n",
        "\n",
        "(a) Write a Python program to generate a sequence of 12 random numbers falling within the range of 50 to 150.\n",
        "\n",
        "(b) Arrange the generated numbers in ascending order. Display the sorted list.\n",
        "\n",
        "(c) Extend the program to arrange the numbers in descending order as well. Present the sorted list accordingly.\n",
        "\n",
        "(d) Compute and output the average of the entire group of generated numbers.\n",
        "\n",
        "(e) Enhance the program to calculate and display the average of the first 6 numbers from both the ascending and descending sorted lists."
      ]
    },
    {
      "cell_type": "code",
      "execution_count": null,
      "metadata": {
        "id": "5QX6bJjGWXY9",
        "colab": {
          "base_uri": "https://localhost:8080/"
        },
        "outputId": "040d78ce-a7a7-43d2-bbe8-0d4fdd533cb2"
      },
      "outputs": [
        {
          "output_type": "stream",
          "name": "stdout",
          "text": [
            "Sorted List (Ascending): [61, 75, 77, 78, 87, 95, 103, 116, 119, 121, 138, 149]\n",
            "Sorted List (Descending): [149, 138, 121, 119, 116, 103, 95, 87, 78, 77, 75, 61]\n",
            "Average of the entire group: 101.58\n",
            "Average of the first 6 numbers (Ascending): 78.83\n",
            "Average of the first 6 numbers (Descending): 124.33\n"
          ]
        }
      ],
      "source": [
        "import random\n",
        "\n",
        "# (a)\n",
        "random_numbers = [random.randint(50, 150) for _ in range(12)]\n",
        "\n",
        "# (b)\n",
        "ascending_sorted_numbers = sorted(random_numbers)\n",
        "print(f\"Sorted List (Ascending): {ascending_sorted_numbers}\")\n",
        "\n",
        "# (c)\n",
        "descending_sorted_numbers = sorted(random_numbers, reverse=True)\n",
        "print(f\"Sorted List (Descending): {descending_sorted_numbers}\")\n",
        "\n",
        "# (d)\n",
        "average_whole_group = sum(random_numbers) / len(random_numbers)\n",
        "print(f\"Average of the entire group: {average_whole_group:.2f}\")\n",
        "\n",
        "# (e)\n",
        "average_first_6_ascending = sum(ascending_sorted_numbers[:6]) / 6\n",
        "average_first_6_descending = sum(descending_sorted_numbers[:6]) / 6\n",
        "\n",
        "print(f\"Average of the first 6 numbers (Ascending): {average_first_6_ascending:.2f}\")\n",
        "print(f\"Average of the first 6 numbers (Descending): {average_first_6_descending:.2f}\")\n",
        "\n"
      ]
    },
    {
      "cell_type": "markdown",
      "metadata": {
        "id": "1F_PZdH9Sh49"
      },
      "source": [
        "# Question 3 (20 points).\n",
        "\n",
        "Create a Python program that encompasses various string manipulation task:\n",
        "\n",
        "(a) Prompt the user to input two sentences.\n",
        "\n",
        "(b) Transform each sentence into a list, where each element corresponds to a word in the sentence. For example, if the sentences are \"Hello, how are you doing today?\" and \"This is an example sentence for the program!\"\n",
        "\n",
        "The program should output:\n",
        "['Hello', ',', 'how', 'are', 'you', 'doing', 'today', '?', 'This', 'is', 'an', 'example', 'sentence', 'for', 'the', 'program', '!']\n",
        "\n",
        "(c) Compare the two sentences. Print out a list of words that occur in both sentences.\n",
        "\n",
        "(d) Remove any punctuation from the sentence and print the sanitized sentences. It should remove at least the following characters, but it can remove more: period(“.”), comma (“,”), semicolon (“;”), and colon (“:”).\n",
        "\n",
        "(e) Count the number of vowels in each of the sentences. Print out each vowel and the occurrences  in the each of the two sentences separately, such as:\n",
        "\n",
        "Sentence1: a:2, e:2, i:0, etc.\n",
        "Sentence2: a:1, e:2, i:2, etc.\n",
        "\n",
        "Design a well-structured Python program to execute these tasks efficiently."
      ]
    },
    {
      "cell_type": "code",
      "execution_count": null,
      "metadata": {
        "id": "Y0oOSlsOS0cq",
        "colab": {
          "base_uri": "https://localhost:8080/"
        },
        "outputId": "08f5989e-c23b-4745-f0b3-a27dface9a98"
      },
      "outputs": [
        {
          "output_type": "stream",
          "name": "stdout",
          "text": [
            "Enter the first sentence: UNT\n",
            "Enter the second sentence: ADTA 5240\n",
            "\n",
            "Word List 1: ['UNT']\n",
            "Word List 2: ['ADTA', '5240']\n",
            "\n",
            "Common Words: []\n",
            "\n",
            "Sanitized Sentence 1: UNT\n",
            "Sanitized Sentence 2: ADTA 5240\n",
            "\n",
            "Vowel Counts - Sentence 1: a:0, e:0, i:0, o:0, u:1\n",
            "Vowel Counts - Sentence 2: a:2, e:0, i:0, o:0, u:0\n"
          ]
        }
      ],
      "source": [
        "import string\n",
        "\n",
        "def get_sentences():\n",
        "    sentence1 = input(\"Enter the first sentence: \")\n",
        "    sentence2 = input(\"Enter the second sentence: \")\n",
        "    return sentence1, sentence2\n",
        "\n",
        "def transform_to_word_list(sentence):\n",
        "    words = sentence.split()\n",
        "    return [word.strip(string.punctuation) for word in words]\n",
        "\n",
        "def find_common_words(list1, list2):\n",
        "    return list(set(list1) & set(list2))\n",
        "\n",
        "def remove_punctuation(sentence):\n",
        "    return sentence.translate(str.maketrans(\"\", \"\", string.punctuation))\n",
        "\n",
        "def count_vowels(sentence):\n",
        "    vowels = \"aeiou\"\n",
        "    counts = {vowel: sentence.lower().count(vowel) for vowel in vowels}\n",
        "    return counts\n",
        "\n",
        "def display_results(sentence1, sentence2, word_list1, word_list2, common_words, sanitized1, sanitized2, vowel_counts1, vowel_counts2):\n",
        "    print(\"\\nWord List 1:\", word_list1)\n",
        "    print(\"Word List 2:\", word_list2)\n",
        "\n",
        "    print(\"\\nCommon Words:\", common_words)\n",
        "\n",
        "    print(\"\\nSanitized Sentence 1:\", sanitized1)\n",
        "    print(\"Sanitized Sentence 2:\", sanitized2)\n",
        "\n",
        "    print(\"\\nVowel Counts - Sentence 1:\", \", \".join(f\"{vowel}:{count}\" for vowel, count in vowel_counts1.items()))\n",
        "    print(\"Vowel Counts - Sentence 2:\", \", \".join(f\"{vowel}:{count}\" for vowel, count in vowel_counts2.items()))\n",
        "\n",
        "def main():\n",
        "    sentence1, sentence2 = get_sentences()\n",
        "\n",
        "    word_list1 = transform_to_word_list(sentence1)\n",
        "    word_list2 = transform_to_word_list(sentence2)\n",
        "\n",
        "    common_words = find_common_words(word_list1, word_list2)\n",
        "\n",
        "    sanitized1 = remove_punctuation(sentence1)\n",
        "    sanitized2 = remove_punctuation(sentence2)\n",
        "\n",
        "    vowel_counts1 = count_vowels(sentence1)\n",
        "    vowel_counts2 = count_vowels(sentence2)\n",
        "\n",
        "    display_results(sentence1, sentence2, word_list1, word_list2, common_words, sanitized1, sanitized2, vowel_counts1, vowel_counts2)\n",
        "\n",
        "if __name__ == \"__main__\":\n",
        "    main()\n",
        "\n"
      ]
    },
    {
      "cell_type": "markdown",
      "source": [
        "# Question 4 (20 Points)"
      ],
      "metadata": {
        "id": "OP4-5qxAtInv"
      }
    },
    {
      "cell_type": "markdown",
      "source": [
        "Design and implement a simple command-line calculator program. The program should handle both integers and floating-point numbers.\n",
        "\n",
        "(a) Write program that takes a mathematical expression as input and evaluates it. The program should support addition, subtraction, multiplication, and division.\n",
        "\n",
        "(b) Extend the calculator to handle parentheses in mathematical expressions. Implement the necessary logic to evaluate expressions with nested parentheses.\n",
        "\n",
        "(c) Enhance your calculator to include additional mathematical operations such as exponentiation, square root, and modulus.\n",
        "\n",
        "(d) Implement error handling in the calculator program. Handle cases such as division by zero and invalid input expressions. Provide meaningful error messages.\n",
        "\n",
        "(e) Implement a command to exit the calculator."
      ],
      "metadata": {
        "id": "uzN4_hDptK9U"
      }
    },
    {
      "cell_type": "code",
      "source": [
        "import math\n",
        "\n",
        "def evaluate_expression(expression):\n",
        "    try:\n",
        "        result = eval(expression)\n",
        "        return result\n",
        "    except ZeroDivisionError:\n",
        "        return \"Error: Division by zero\"\n",
        "    except Exception as e:\n",
        "        return f\"Error: {str(e)}\"\n",
        "\n",
        "def handle_user_input():\n",
        "    while True:\n",
        "        user_input = input(\"Enter a mathematical expression (type 'exit' to quit): \")\n",
        "\n",
        "        if user_input.lower() == 'exit':\n",
        "            print(\"Exiting the calculator.\")\n",
        "            break\n",
        "\n",
        "        result = evaluate_expression(user_input)\n",
        "        print(\"Result:\", result)\n",
        "\n",
        "def main():\n",
        "    handle_user_input()\n",
        "\n",
        "if __name__ == \"__main__\":\n",
        "    main()"
      ],
      "metadata": {
        "id": "8nQnVxjJuYtu",
        "colab": {
          "base_uri": "https://localhost:8080/"
        },
        "outputId": "e7414efb-12ee-45d8-f63e-4c6a650d43df"
      },
      "execution_count": null,
      "outputs": [
        {
          "output_type": "stream",
          "name": "stdout",
          "text": [
            "Enter a mathematical expression (type 'exit' to quit): exit\n",
            "Exiting the calculator.\n"
          ]
        }
      ]
    },
    {
      "cell_type": "markdown",
      "metadata": {
        "id": "z3tBE7E-Xn5X"
      },
      "source": [
        "# Question 5 (30 points).\n",
        "\n",
        "In the field of Data Science, data is often formatted as a comma-delimited (CSV) file, where each line in a file corresponds to a field's value. Refer to Chapter 9 (p. 106) for more information on comma-delimited files.\n",
        "\n",
        "To answer this question, you will need to download the file [Assignment1_denton_housing.csv](https://raw.githubusercontent.com/unt-iialab/info5731-spring2022/main/assignments/Assignment1_denton_housing.csv) included with this assignment. The file contains statistics about housing in the city of Denton from 2008 to 2014. Write a program to implement the following questions.\n",
        "\n",
        "(a) (5 pts) Calculate the difference in the number of Occupied Housing Units from year to year and print it. The difference must be calculated for the consecutive years such as 2008-2009, 2009-2010 etc. Finally, print the values in the ascending order.\n",
        "\n",
        "(b) (5 pts) For all the years, calculate the percentage of housing units which are vacant an occupied. Print the results in the following format:\n",
        "\n",
        "Year Vacant Housing Units Occupied Housing Units\n",
        "\n",
        "    2008  30%   70%                          \n",
        "\t2009 ----- -----\n",
        "\t2010 ----- -----\n",
        "    2011 ----- -----\n",
        "\t2012 ----- -----\n",
        "    2013 ----- -----\n",
        "\t2014 ----- -----\n",
        "  \n",
        "  \n",
        "\n",
        "(c) (10 pts) Calculate and print the valued and years in which the highest number of housing units were vacant and occupied. Print the results in the following format:  \n",
        "\n",
        "                              Year\tValue\n",
        "\tVacant Housing Units\t  -----   -----\n",
        "\tOccupied Housing Units\t-----   -----\n",
        "\n",
        "(d) (10 pts) Calculate the harmonic mean of the total housing units and print it out. You can find the information about harmonic mean here: https://ncalculators.com/statistics/harmonic-mean-calculator.htm"
      ]
    },
    {
      "cell_type": "code",
      "execution_count": null,
      "metadata": {
        "id": "lqGYuHBhcsRH",
        "colab": {
          "base_uri": "https://localhost:8080/"
        },
        "outputId": "d53b35bb-b54f-4ac8-a8d1-9fb44fc9838b"
      },
      "outputs": [
        {
          "output_type": "stream",
          "name": "stdout",
          "text": [
            "\n",
            "(a) Occupied Housing Units Difference:\n",
            "2014-2014: -46295\n",
            "2013-2013: -43673\n",
            "2012-2012: -42108\n",
            "2010-2010: -41007\n",
            "2011-2011: -40704\n",
            "2008-2008: -36711\n",
            "2009-2009: -35916\n",
            "2008-2014: -18466\n",
            "2008-2014: -15284\n",
            "2010-2009: -4083\n",
            "2014-2013: -4023\n",
            "2012-2011: -3562\n",
            "2011-2010: -3359\n",
            "2013-2012: -2760\n",
            "2010-2009: -1508\n",
            "2009-2008: -519\n",
            "2009-2009: -198\n",
            "2013-2012: -45\n",
            "2011-2010: -41\n",
            "2012-2011: -21\n",
            "2014-2013: -18\n",
            "2010-2009: -11\n",
            "2009-2008: -1\n",
            "2013-2012: 1448\n",
            "2014-2013: 1593\n",
            "2012-2012: 1972\n",
            "2013-2013: 1983\n",
            "2008-2008: 2031\n",
            "2012-2011: 2809\n",
            "2010-2010: 3273\n",
            "2014-2014: 3441\n",
            "2011-2011: 3748\n",
            "2011-2010: 3938\n",
            "2009-2008: 5278\n",
            "2008-2008: 32228\n",
            "2009-2009: 32333\n",
            "2011-2011: 36491\n",
            "2010-2010: 37372\n",
            "2012-2012: 39095\n",
            "2013-2013: 39458\n",
            "2014-2014: 43481\n",
            "\n",
            "Year\tVacant Housing Units\tOccupied Housing Units\n",
            "2014\t100.00%\t\t100.00%\n",
            "2014\t100.00%\t\t100.00%\n",
            "2014\t100.00%\t\t100.00%\n",
            "2013\t100.00%\t\t100.00%\n",
            "2013\t100.00%\t\t100.00%\n",
            "2013\t100.00%\t\t100.00%\n",
            "2012\t100.00%\t\t100.00%\n",
            "2012\t100.00%\t\t100.00%\n",
            "2012\t100.00%\t\t100.00%\n",
            "2011\t100.00%\t\t100.00%\n",
            "2011\t100.00%\t\t100.00%\n",
            "2011\t100.00%\t\t100.00%\n",
            "2010\t100.00%\t\t100.00%\n",
            "2010\t100.00%\t\t100.00%\n",
            "2010\t100.00%\t\t100.00%\n",
            "2009\t100.00%\t\t100.00%\n",
            "2009\t100.00%\t\t100.00%\n",
            "2009\t100.00%\t\t100.00%\n",
            "2008\t100.00%\t\t100.00%\n",
            "2008\t100.00%\t\t100.00%\n",
            "2008\t100.00%\t\t100.00%\n",
            "2014\t100.00%\t\t100.00%\n",
            "2014\t100.00%\t\t100.00%\n",
            "2013\t100.00%\t\t100.00%\n",
            "2013\t100.00%\t\t100.00%\n",
            "2012\t100.00%\t\t100.00%\n",
            "2012\t100.00%\t\t100.00%\n",
            "2011\t100.00%\t\t100.00%\n",
            "2011\t100.00%\t\t100.00%\n",
            "2010\t100.00%\t\t100.00%\n",
            "2010\t100.00%\t\t100.00%\n",
            "2009\t100.00%\t\t100.00%\n",
            "2009\t100.00%\t\t100.00%\n",
            "2008\t100.00%\t\t100.00%\n",
            "2008\t100.00%\t\t100.00%\n",
            "2014\t100.00%\t\t100.00%\n",
            "2013\t100.00%\t\t100.00%\n",
            "2012\t100.00%\t\t100.00%\n",
            "2011\t100.00%\t\t100.00%\n",
            "2010\t100.00%\t\t100.00%\n",
            "2009\t100.00%\t\t100.00%\n",
            "2008\t100.00%\t\t100.00%\n",
            "\n",
            "(c) Highest Housing Units:\n",
            "Vacant Housing Units\tYear: 2014\tValue: 49109\n",
            "Occupied Housing Units\tYear: 2014\tValue: 49109\n",
            "\n",
            "(d) Harmonic Mean of Total Housing Units:\n",
            "3657.43\n"
          ]
        }
      ],
      "source": [
        "import csv\n",
        "import requests\n",
        "from statistics import harmonic_mean\n",
        "\n",
        "def load_data(csv_url):\n",
        "    response = requests.get(csv_url)\n",
        "    lines = response.text.split('\\n')\n",
        "    reader = csv.DictReader(lines)\n",
        "    return list(reader)\n",
        "\n",
        "def calculate_occupied_diff(data):\n",
        "    return sorted([\n",
        "        {\n",
        "            'Year Range': f\"{data[i-1]['year']}-{data[i]['year']}\",\n",
        "            'Difference': int(data[i]['value']) - int(data[i-1]['value'])\n",
        "        }\n",
        "        for i in range(1, len(data))\n",
        "    ], key=lambda x: x['Difference'])\n",
        "\n",
        "def calculate_percentage(data):\n",
        "    print(\"\\nYear\\tVacant Housing Units\\tOccupied Housing Units\")\n",
        "    for row in data:\n",
        "        year = row['year']\n",
        "        total_units = int(row['value'])\n",
        "        vacant_units = int(row['value'])\n",
        "        occupied_units = int(row['value'])\n",
        "\n",
        "        vacant_percentage = (vacant_units / total_units) * 100\n",
        "        occupied_percentage = (occupied_units / total_units) * 100\n",
        "\n",
        "        print(f\"{year}\\t{vacant_percentage:.2f}%\\t\\t{occupied_percentage:.2f}%\")\n",
        "\n",
        "def find_highest_values(data, column):\n",
        "    highest_value = max(int(row[column]) for row in data)\n",
        "    years = [row['year'] for row in data if int(row[column]) == highest_value]\n",
        "    return highest_value, years\n",
        "\n",
        "def calculate_harmonic_mean(data, column):\n",
        "    values = [int(row[column]) for row in data]\n",
        "    return harmonic_mean(values)\n",
        "\n",
        "file_url = 'https://raw.githubusercontent.com/unt-iialab/info5731-spring2022/main/assignments/Assignment1_denton_housing.csv'\n",
        "housing_data = load_data(file_url)\n",
        "\n",
        "# (a)\n",
        "occupied_diff_sorted = calculate_occupied_diff(housing_data)\n",
        "print(\"\\n(a) Occupied Housing Units Difference:\")\n",
        "for item in occupied_diff_sorted:\n",
        "    print(f\"{item['Year Range']}: {item['Difference']}\")\n",
        "\n",
        "# (b)\n",
        "calculate_percentage(housing_data)\n",
        "\n",
        "# (c)\n",
        "highest_vacant, years_vacant = find_highest_values(housing_data, 'value')\n",
        "highest_occupied, years_occupied = find_highest_values(housing_data, 'value')\n",
        "print(\"\\n(c) Highest Housing Units:\")\n",
        "print(f\"Vacant Housing Units\\tYear: {', '.join(years_vacant)}\\tValue: {highest_vacant}\")\n",
        "print(f\"Occupied Housing Units\\tYear: {', '.join(years_occupied)}\\tValue: {highest_occupied}\")\n",
        "\n",
        "# (d)\n",
        "harmonic_mean_total_units = calculate_harmonic_mean(housing_data, 'value')\n",
        "print(\"\\n(d) Harmonic Mean of Total Housing Units:\")\n",
        "print(f\"{harmonic_mean_total_units:.2f}\")"
      ]
    },
    {
      "cell_type": "markdown",
      "source": [
        "# Mandatory Question\n",
        "\n",
        "Provide your thoughts on the assignment. What did you find challenging, and what aspects did you enjoy? Your opinion on the provided time to complete the assignment. Share any suggestions for improvement. Your feedback will be valuable for enhancing the learning experience."
      ],
      "metadata": {
        "id": "q8BFCvWp32cf"
      }
    },
    {
      "cell_type": "code",
      "source": [
        "All things considered, this task is excellent. It gave me a solid understanding of string manipulation, numerical calculations, and Python, all of which are useful for work involving data analysis and statistical analysis in the data sector."
      ],
      "metadata": {
        "id": "_e557s2w4BpK"
      },
      "execution_count": null,
      "outputs": []
    }
  ],
  "metadata": {
    "colab": {
      "provenance": [],
      "include_colab_link": true
    },
    "kernelspec": {
      "display_name": "Python 3 (ipykernel)",
      "language": "python",
      "name": "python3"
    },
    "language_info": {
      "codemirror_mode": {
        "name": "ipython",
        "version": 3
      },
      "file_extension": ".py",
      "mimetype": "text/x-python",
      "name": "python",
      "nbconvert_exporter": "python",
      "pygments_lexer": "ipython3",
      "version": "3.9.12"
    }
  },
  "nbformat": 4,
  "nbformat_minor": 0
}